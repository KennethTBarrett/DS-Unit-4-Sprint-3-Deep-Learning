{
  "nbformat": 4,
  "nbformat_minor": 0,
  "metadata": {
    "kernelspec": {
      "display_name": "U4-S2-NNF-DS10",
      "language": "python",
      "name": "u4-s2-nnf-ds10"
    },
    "language_info": {
      "codemirror_mode": {
        "name": "ipython",
        "version": 3
      },
      "file_extension": ".py",
      "mimetype": "text/x-python",
      "name": "python",
      "nbconvert_exporter": "python",
      "pygments_lexer": "ipython3",
      "version": "3.7.6"
    },
    "nteract": {
      "version": "0.23.1"
    },
    "colab": {
      "name": "LS_DS_432_Convolution_Neural_Networks_Assignment.ipynb",
      "provenance": [],
      "collapsed_sections": []
    },
    "accelerator": "GPU"
  },
  "cells": [
    {
      "cell_type": "markdown",
      "metadata": {
        "id": "7-GeLmFdehSa",
        "colab_type": "text"
      },
      "source": [
        "<img align=\"left\" src=\"https://lever-client-logos.s3.amazonaws.com/864372b1-534c-480e-acd5-9711f850815c-1524247202159.png\" width=200>\n",
        "<br></br>\n",
        "<br></br>\n",
        "\n",
        "## *Data Science Unit 4 Sprint 3 Assignment 2*\n",
        "# Convolutional Neural Networks (CNNs)"
      ]
    },
    {
      "cell_type": "markdown",
      "metadata": {
        "colab_type": "text",
        "id": "0lfZdD_cp1t5"
      },
      "source": [
        "# Assignment\n",
        "\n",
        "- <a href=\"#p1\">Part 1:</a> Pre-Trained Model\n",
        "- <a href=\"#p2\">Part 2:</a> Custom CNN Model\n",
        "- <a href=\"#p3\">Part 3:</a> CNN with Data Augmentation\n",
        "\n",
        "\n",
        "You will apply three different CNN models to a binary image classification model using Keras. Classify images of Mountains (`./data/train/mountain/*`) and images of forests (`./data/train/forest/*`). Treat mountains as the positive class (1) and the forest images as the negative (zero). \n",
        "\n",
        "|Mountain (+)|Forest (-)|\n",
        "|---|---|\n",
        "|![](https://github.com/LambdaSchool/DS-Unit-4-Sprint-3-Deep-Learning/blob/master/module2-convolutional-neural-networks/data/train/mountain/art1131.jpg?raw=1)|![](https://github.com/LambdaSchool/DS-Unit-4-Sprint-3-Deep-Learning/blob/master/module2-convolutional-neural-networks/data/validation/forest/cdmc317.jpg?raw=1)|\n",
        "\n",
        "The problem is relatively difficult given that the sample is tiny: there are about 350 observations per class. This sample size might be something that you can expect with prototyping an image classification problem/solution at work. Get accustomed to evaluating several different possible models."
      ]
    },
    {
      "cell_type": "markdown",
      "metadata": {
        "colab_type": "text",
        "id": "yb7Dsb4WehSd"
      },
      "source": [
        "# Pre - Trained Model\n",
        "<a id=\"p1\"></a>\n",
        "\n",
        "Load a pretrained network from Keras, [ResNet50](https://tfhub.dev/google/imagenet/resnet_v1_50/classification/1) - a 50 layer deep network trained to recognize [1000 objects](https://storage.googleapis.com/download.tensorflow.org/data/ImageNetLabels.txt). Starting usage:\n",
        "\n",
        "```python\n",
        "import numpy as np\n",
        "\n",
        "from tensorflow.keras.applications.resnet50 import ResNet50\n",
        "from tensorflow.keras.preprocessing import image\n",
        "from tensorflow.keras.applications.resnet50 import preprocess_input, decode_predictions\n",
        "\n",
        "from tensorflow.keras.layers import Dense, GlobalAveragePooling2D\n",
        "from tensorflow.keras.models import Model # This is the functional API\n",
        "\n",
        "resnet = ResNet50(weights='imagenet', include_top=False)\n",
        "\n",
        "```\n",
        "\n",
        "The `include_top` parameter in `ResNet50` will remove the full connected layers from the ResNet model. The next step is to turn off the training of the ResNet layers. We want to use the learned parameters without updating them in future training passes. \n",
        "\n",
        "```python\n",
        "for layer in resnet.layers:\n",
        "    layer.trainable = False\n",
        "```\n",
        "\n",
        "Using the Keras functional API, we will need to additional additional full connected layers to our model. We we removed the top layers, we removed all preivous fully connected layers. In other words, we kept only the feature processing portions of our network. You can expert with additional layers beyond what's listed here. The `GlobalAveragePooling2D` layer functions as a really fancy flatten function by taking the average of each of the last convolutional layer outputs (which is two dimensional still). \n",
        "\n",
        "```python\n",
        "x = resnet.output\n",
        "x = GlobalAveragePooling2D()(x) # This layer is a really fancy flatten\n",
        "x = Dense(1024, activation='relu')(x)\n",
        "predictions = Dense(1, activation='sigmoid')(x)\n",
        "model = Model(resnet.input, predictions)\n",
        "```\n",
        "\n",
        "Your assignment is to apply the transfer learning above to classify images of Mountains (`./data/train/mountain/*`) and images of forests (`./data/train/forest/*`). Treat mountains as the positive class (1) and the forest images as the negative (zero). \n",
        "\n",
        "Steps to complete assignment: \n",
        "1. Load in Image Data into numpy arrays (`X`) \n",
        "2. Create a `y` for the labels\n",
        "3. Train your model with pre-trained layers from resnet\n",
        "4. Report your model's accuracy"
      ]
    },
    {
      "cell_type": "markdown",
      "metadata": {
        "id": "dfDhV1EqehSf",
        "colab_type": "text"
      },
      "source": [
        "## Load in Data\n",
        "\n",
        "This surprisingly more difficult than it seems, because you are working with directories of images instead of a single file. This boiler plate will help you download a zipped version of the directory of images. The directory is organized into \"train\" and \"validation\" which you can use inside an `ImageGenerator` class to stream batches of images thru your model.  \n"
      ]
    },
    {
      "cell_type": "markdown",
      "metadata": {
        "id": "TP4Of2OpehSg",
        "colab_type": "text"
      },
      "source": [
        "### Download & Summarize the Data\n",
        "\n",
        "This step is completed for you. Just run the cells and review the results. "
      ]
    },
    {
      "cell_type": "code",
      "metadata": {
        "id": "L3Z1VL0BehSh",
        "colab_type": "code",
        "colab": {}
      },
      "source": [
        "import tensorflow as tf\n",
        "import os\n",
        "\n",
        "_URL = 'https://github.com/LambdaSchool/DS-Unit-4-Sprint-3-Deep-Learning/blob/master/module2-convolutional-neural-networks/data.zip?raw=true'\n",
        "\n",
        "path_to_zip = tf.keras.utils.get_file('./data.zip', origin=_URL, extract=True)\n",
        "PATH = os.path.join(os.path.dirname(path_to_zip), 'data')"
      ],
      "execution_count": 0,
      "outputs": []
    },
    {
      "cell_type": "code",
      "metadata": {
        "id": "NwJ9U_sRehSs",
        "colab_type": "code",
        "colab": {}
      },
      "source": [
        "train_dir = os.path.join(PATH, 'train')\n",
        "validation_dir = os.path.join(PATH, 'validation')"
      ],
      "execution_count": 0,
      "outputs": []
    },
    {
      "cell_type": "code",
      "metadata": {
        "id": "aWFs6geTehTO",
        "colab_type": "code",
        "colab": {}
      },
      "source": [
        "train_mountain_dir = os.path.join(train_dir, 'mountain')  # directory with our training mountain pictures\n",
        "train_forest_dir = os.path.join(train_dir, 'forest')  # directory with our training forest pictures\n",
        "validation_mountain_dir = os.path.join(validation_dir, 'mountain')  # directory with our validation mountain pictures\n",
        "validation_forest_dir = os.path.join(validation_dir, 'forest')  # directory with our validation forest pictures"
      ],
      "execution_count": 0,
      "outputs": []
    },
    {
      "cell_type": "code",
      "metadata": {
        "id": "rm5Pj5a7ehTW",
        "colab_type": "code",
        "colab": {}
      },
      "source": [
        "num_mountain_tr = len(os.listdir(train_mountain_dir))\n",
        "num_forest_tr = len(os.listdir(train_forest_dir))\n",
        "\n",
        "num_mountain_val = len(os.listdir(validation_mountain_dir))\n",
        "num_forest_val = len(os.listdir(validation_forest_dir))\n",
        "\n",
        "total_train = num_mountain_tr + num_forest_tr\n",
        "total_val = num_mountain_val + num_forest_val"
      ],
      "execution_count": 0,
      "outputs": []
    },
    {
      "cell_type": "code",
      "metadata": {
        "id": "sqTzjZPwehTd",
        "colab_type": "code",
        "outputId": "d52a1540-fec5-4fe7-ccb0-dca592b2cb24",
        "colab": {
          "base_uri": "https://localhost:8080/",
          "height": 148
        }
      },
      "source": [
        "print('Total training mountain images:', num_mountain_tr)\n",
        "print('Total training forest images:', num_forest_tr)\n",
        "\n",
        "print('Total validation mountain images:', num_mountain_val)\n",
        "print('Total validation forest images:', num_forest_val)\n",
        "print(\"--\")\n",
        "print(\"Total training images:\", total_train)\n",
        "print(\"Total validation images:\", total_val)"
      ],
      "execution_count": 5,
      "outputs": [
        {
          "output_type": "stream",
          "text": [
            "Total training mountain images: 254\n",
            "Total training forest images: 270\n",
            "Total validation mountain images: 125\n",
            "Total validation forest images: 62\n",
            "--\n",
            "Total training images: 524\n",
            "Total validation images: 187\n"
          ],
          "name": "stdout"
        }
      ]
    },
    {
      "cell_type": "markdown",
      "metadata": {
        "id": "BhsJ6ldgehTm",
        "colab_type": "text"
      },
      "source": [
        "### Keras `ImageGenerator` to Process the Data\n",
        "\n",
        "This step is completed for you, but please review the code. The `ImageGenerator` class reads in batches of data from a directory and pass them to the model one batch at a time. Just like large text files, this method is advantageous, because it stifles the need to load a bunch of images into memory. \n",
        "\n",
        "Check out the documentation for this class method: [Keras `ImageGenerator` Class](https://keras.io/preprocessing/image/#imagedatagenerator-class). You'll expand it's use in the third assignment objective."
      ]
    },
    {
      "cell_type": "code",
      "metadata": {
        "id": "il6rZg6wehTo",
        "colab_type": "code",
        "colab": {}
      },
      "source": [
        "batch_size = 16\n",
        "epochs = 50\n",
        "IMG_HEIGHT = 224\n",
        "IMG_WIDTH = 224"
      ],
      "execution_count": 0,
      "outputs": []
    },
    {
      "cell_type": "code",
      "metadata": {
        "id": "W8pMDNL_ehT0",
        "colab_type": "code",
        "colab": {}
      },
      "source": [
        "from tensorflow.keras.preprocessing.image import ImageDataGenerator\n",
        "\n",
        "train_image_generator = ImageDataGenerator(rescale=1./255) # Generator for our training data\n",
        "validation_image_generator = ImageDataGenerator(rescale=1./255) # Generator for our validation data"
      ],
      "execution_count": 0,
      "outputs": []
    },
    {
      "cell_type": "code",
      "metadata": {
        "id": "cQbN_yjqehT_",
        "colab_type": "code",
        "outputId": "3274f8bf-3d41-4a90-8214-474b99603898",
        "colab": {
          "base_uri": "https://localhost:8080/",
          "height": 35
        }
      },
      "source": [
        "train_data_gen = train_image_generator.flow_from_directory(batch_size=batch_size,\n",
        "                                                           directory=train_dir,\n",
        "                                                           shuffle=True,\n",
        "                                                           target_size=(IMG_HEIGHT, IMG_WIDTH),\n",
        "                                                           class_mode='binary')"
      ],
      "execution_count": 8,
      "outputs": [
        {
          "output_type": "stream",
          "text": [
            "Found 533 images belonging to 2 classes.\n"
          ],
          "name": "stdout"
        }
      ]
    },
    {
      "cell_type": "code",
      "metadata": {
        "id": "KqVTOj0DehUb",
        "colab_type": "code",
        "outputId": "762bc0d2-0a1d-4edf-80c2-bd8b9b5d5033",
        "colab": {
          "base_uri": "https://localhost:8080/",
          "height": 35
        }
      },
      "source": [
        "val_data_gen = validation_image_generator.flow_from_directory(batch_size=batch_size,\n",
        "                                                              directory=validation_dir,\n",
        "                                                              target_size=(IMG_HEIGHT, IMG_WIDTH),\n",
        "                                                              class_mode='binary')"
      ],
      "execution_count": 9,
      "outputs": [
        {
          "output_type": "stream",
          "text": [
            "Found 195 images belonging to 2 classes.\n"
          ],
          "name": "stdout"
        }
      ]
    },
    {
      "cell_type": "markdown",
      "metadata": {
        "id": "2DabvF97ehUk",
        "colab_type": "text"
      },
      "source": [
        "## Instatiate Model"
      ]
    },
    {
      "cell_type": "code",
      "metadata": {
        "id": "6PeZQwLlehUm",
        "colab_type": "code",
        "outputId": "70d9144d-6995-42c1-e04d-54963e4391b4",
        "colab": {
          "base_uri": "https://localhost:8080/",
          "height": 1000
        }
      },
      "source": [
        "import numpy as np\n",
        " \n",
        "from tensorflow.keras.applications.resnet50 import ResNet50\n",
        "from tensorflow.keras.preprocessing import image\n",
        "from tensorflow.keras.applications.resnet50 import preprocess_input, decode_predictions\n",
        " \n",
        "from tensorflow.keras.layers import Dense, Dropout, GlobalAveragePooling2D\n",
        "from tensorflow.keras.models import Model # This is the functional API\n",
        " \n",
        "resnet = ResNet50(weights='imagenet', include_top=False)\n",
        "\n",
        "for layer in resnet.layers:\n",
        "    layer.trainable = False\n",
        "\n",
        "x = resnet.output\n",
        "x = GlobalAveragePooling2D()(x) # This layer is a really fancy flatten (pooling layer)\n",
        "x = Dense(1024, activation='relu')(x)\n",
        "x = Dropout(0.25)(x)\n",
        "x = Dense(512, activation='relu')(x)\n",
        "x = Dropout(0.25)(x)\n",
        "\n",
        "predictions = Dense(1, activation='sigmoid', name='OutputLayer')(x)\n",
        "model = Model(resnet.input, predictions)\n",
        "\n",
        "model.compile(optimizer='adam', loss='binary_crossentropy', metrics=['accuracy'])  # Using binary crossentropy due to being a 0 / 1 issue.\n",
        "\n",
        "model.summary()  # Let's make sure everything looks correct!"
      ],
      "execution_count": 10,
      "outputs": [
        {
          "output_type": "stream",
          "text": [
            "Model: \"model\"\n",
            "__________________________________________________________________________________________________\n",
            "Layer (type)                    Output Shape         Param #     Connected to                     \n",
            "==================================================================================================\n",
            "input_1 (InputLayer)            [(None, None, None,  0                                            \n",
            "__________________________________________________________________________________________________\n",
            "conv1_pad (ZeroPadding2D)       (None, None, None, 3 0           input_1[0][0]                    \n",
            "__________________________________________________________________________________________________\n",
            "conv1_conv (Conv2D)             (None, None, None, 6 9472        conv1_pad[0][0]                  \n",
            "__________________________________________________________________________________________________\n",
            "conv1_bn (BatchNormalization)   (None, None, None, 6 256         conv1_conv[0][0]                 \n",
            "__________________________________________________________________________________________________\n",
            "conv1_relu (Activation)         (None, None, None, 6 0           conv1_bn[0][0]                   \n",
            "__________________________________________________________________________________________________\n",
            "pool1_pad (ZeroPadding2D)       (None, None, None, 6 0           conv1_relu[0][0]                 \n",
            "__________________________________________________________________________________________________\n",
            "pool1_pool (MaxPooling2D)       (None, None, None, 6 0           pool1_pad[0][0]                  \n",
            "__________________________________________________________________________________________________\n",
            "conv2_block1_1_conv (Conv2D)    (None, None, None, 6 4160        pool1_pool[0][0]                 \n",
            "__________________________________________________________________________________________________\n",
            "conv2_block1_1_bn (BatchNormali (None, None, None, 6 256         conv2_block1_1_conv[0][0]        \n",
            "__________________________________________________________________________________________________\n",
            "conv2_block1_1_relu (Activation (None, None, None, 6 0           conv2_block1_1_bn[0][0]          \n",
            "__________________________________________________________________________________________________\n",
            "conv2_block1_2_conv (Conv2D)    (None, None, None, 6 36928       conv2_block1_1_relu[0][0]        \n",
            "__________________________________________________________________________________________________\n",
            "conv2_block1_2_bn (BatchNormali (None, None, None, 6 256         conv2_block1_2_conv[0][0]        \n",
            "__________________________________________________________________________________________________\n",
            "conv2_block1_2_relu (Activation (None, None, None, 6 0           conv2_block1_2_bn[0][0]          \n",
            "__________________________________________________________________________________________________\n",
            "conv2_block1_0_conv (Conv2D)    (None, None, None, 2 16640       pool1_pool[0][0]                 \n",
            "__________________________________________________________________________________________________\n",
            "conv2_block1_3_conv (Conv2D)    (None, None, None, 2 16640       conv2_block1_2_relu[0][0]        \n",
            "__________________________________________________________________________________________________\n",
            "conv2_block1_0_bn (BatchNormali (None, None, None, 2 1024        conv2_block1_0_conv[0][0]        \n",
            "__________________________________________________________________________________________________\n",
            "conv2_block1_3_bn (BatchNormali (None, None, None, 2 1024        conv2_block1_3_conv[0][0]        \n",
            "__________________________________________________________________________________________________\n",
            "conv2_block1_add (Add)          (None, None, None, 2 0           conv2_block1_0_bn[0][0]          \n",
            "                                                                 conv2_block1_3_bn[0][0]          \n",
            "__________________________________________________________________________________________________\n",
            "conv2_block1_out (Activation)   (None, None, None, 2 0           conv2_block1_add[0][0]           \n",
            "__________________________________________________________________________________________________\n",
            "conv2_block2_1_conv (Conv2D)    (None, None, None, 6 16448       conv2_block1_out[0][0]           \n",
            "__________________________________________________________________________________________________\n",
            "conv2_block2_1_bn (BatchNormali (None, None, None, 6 256         conv2_block2_1_conv[0][0]        \n",
            "__________________________________________________________________________________________________\n",
            "conv2_block2_1_relu (Activation (None, None, None, 6 0           conv2_block2_1_bn[0][0]          \n",
            "__________________________________________________________________________________________________\n",
            "conv2_block2_2_conv (Conv2D)    (None, None, None, 6 36928       conv2_block2_1_relu[0][0]        \n",
            "__________________________________________________________________________________________________\n",
            "conv2_block2_2_bn (BatchNormali (None, None, None, 6 256         conv2_block2_2_conv[0][0]        \n",
            "__________________________________________________________________________________________________\n",
            "conv2_block2_2_relu (Activation (None, None, None, 6 0           conv2_block2_2_bn[0][0]          \n",
            "__________________________________________________________________________________________________\n",
            "conv2_block2_3_conv (Conv2D)    (None, None, None, 2 16640       conv2_block2_2_relu[0][0]        \n",
            "__________________________________________________________________________________________________\n",
            "conv2_block2_3_bn (BatchNormali (None, None, None, 2 1024        conv2_block2_3_conv[0][0]        \n",
            "__________________________________________________________________________________________________\n",
            "conv2_block2_add (Add)          (None, None, None, 2 0           conv2_block1_out[0][0]           \n",
            "                                                                 conv2_block2_3_bn[0][0]          \n",
            "__________________________________________________________________________________________________\n",
            "conv2_block2_out (Activation)   (None, None, None, 2 0           conv2_block2_add[0][0]           \n",
            "__________________________________________________________________________________________________\n",
            "conv2_block3_1_conv (Conv2D)    (None, None, None, 6 16448       conv2_block2_out[0][0]           \n",
            "__________________________________________________________________________________________________\n",
            "conv2_block3_1_bn (BatchNormali (None, None, None, 6 256         conv2_block3_1_conv[0][0]        \n",
            "__________________________________________________________________________________________________\n",
            "conv2_block3_1_relu (Activation (None, None, None, 6 0           conv2_block3_1_bn[0][0]          \n",
            "__________________________________________________________________________________________________\n",
            "conv2_block3_2_conv (Conv2D)    (None, None, None, 6 36928       conv2_block3_1_relu[0][0]        \n",
            "__________________________________________________________________________________________________\n",
            "conv2_block3_2_bn (BatchNormali (None, None, None, 6 256         conv2_block3_2_conv[0][0]        \n",
            "__________________________________________________________________________________________________\n",
            "conv2_block3_2_relu (Activation (None, None, None, 6 0           conv2_block3_2_bn[0][0]          \n",
            "__________________________________________________________________________________________________\n",
            "conv2_block3_3_conv (Conv2D)    (None, None, None, 2 16640       conv2_block3_2_relu[0][0]        \n",
            "__________________________________________________________________________________________________\n",
            "conv2_block3_3_bn (BatchNormali (None, None, None, 2 1024        conv2_block3_3_conv[0][0]        \n",
            "__________________________________________________________________________________________________\n",
            "conv2_block3_add (Add)          (None, None, None, 2 0           conv2_block2_out[0][0]           \n",
            "                                                                 conv2_block3_3_bn[0][0]          \n",
            "__________________________________________________________________________________________________\n",
            "conv2_block3_out (Activation)   (None, None, None, 2 0           conv2_block3_add[0][0]           \n",
            "__________________________________________________________________________________________________\n",
            "conv3_block1_1_conv (Conv2D)    (None, None, None, 1 32896       conv2_block3_out[0][0]           \n",
            "__________________________________________________________________________________________________\n",
            "conv3_block1_1_bn (BatchNormali (None, None, None, 1 512         conv3_block1_1_conv[0][0]        \n",
            "__________________________________________________________________________________________________\n",
            "conv3_block1_1_relu (Activation (None, None, None, 1 0           conv3_block1_1_bn[0][0]          \n",
            "__________________________________________________________________________________________________\n",
            "conv3_block1_2_conv (Conv2D)    (None, None, None, 1 147584      conv3_block1_1_relu[0][0]        \n",
            "__________________________________________________________________________________________________\n",
            "conv3_block1_2_bn (BatchNormali (None, None, None, 1 512         conv3_block1_2_conv[0][0]        \n",
            "__________________________________________________________________________________________________\n",
            "conv3_block1_2_relu (Activation (None, None, None, 1 0           conv3_block1_2_bn[0][0]          \n",
            "__________________________________________________________________________________________________\n",
            "conv3_block1_0_conv (Conv2D)    (None, None, None, 5 131584      conv2_block3_out[0][0]           \n",
            "__________________________________________________________________________________________________\n",
            "conv3_block1_3_conv (Conv2D)    (None, None, None, 5 66048       conv3_block1_2_relu[0][0]        \n",
            "__________________________________________________________________________________________________\n",
            "conv3_block1_0_bn (BatchNormali (None, None, None, 5 2048        conv3_block1_0_conv[0][0]        \n",
            "__________________________________________________________________________________________________\n",
            "conv3_block1_3_bn (BatchNormali (None, None, None, 5 2048        conv3_block1_3_conv[0][0]        \n",
            "__________________________________________________________________________________________________\n",
            "conv3_block1_add (Add)          (None, None, None, 5 0           conv3_block1_0_bn[0][0]          \n",
            "                                                                 conv3_block1_3_bn[0][0]          \n",
            "__________________________________________________________________________________________________\n",
            "conv3_block1_out (Activation)   (None, None, None, 5 0           conv3_block1_add[0][0]           \n",
            "__________________________________________________________________________________________________\n",
            "conv3_block2_1_conv (Conv2D)    (None, None, None, 1 65664       conv3_block1_out[0][0]           \n",
            "__________________________________________________________________________________________________\n",
            "conv3_block2_1_bn (BatchNormali (None, None, None, 1 512         conv3_block2_1_conv[0][0]        \n",
            "__________________________________________________________________________________________________\n",
            "conv3_block2_1_relu (Activation (None, None, None, 1 0           conv3_block2_1_bn[0][0]          \n",
            "__________________________________________________________________________________________________\n",
            "conv3_block2_2_conv (Conv2D)    (None, None, None, 1 147584      conv3_block2_1_relu[0][0]        \n",
            "__________________________________________________________________________________________________\n",
            "conv3_block2_2_bn (BatchNormali (None, None, None, 1 512         conv3_block2_2_conv[0][0]        \n",
            "__________________________________________________________________________________________________\n",
            "conv3_block2_2_relu (Activation (None, None, None, 1 0           conv3_block2_2_bn[0][0]          \n",
            "__________________________________________________________________________________________________\n",
            "conv3_block2_3_conv (Conv2D)    (None, None, None, 5 66048       conv3_block2_2_relu[0][0]        \n",
            "__________________________________________________________________________________________________\n",
            "conv3_block2_3_bn (BatchNormali (None, None, None, 5 2048        conv3_block2_3_conv[0][0]        \n",
            "__________________________________________________________________________________________________\n",
            "conv3_block2_add (Add)          (None, None, None, 5 0           conv3_block1_out[0][0]           \n",
            "                                                                 conv3_block2_3_bn[0][0]          \n",
            "__________________________________________________________________________________________________\n",
            "conv3_block2_out (Activation)   (None, None, None, 5 0           conv3_block2_add[0][0]           \n",
            "__________________________________________________________________________________________________\n",
            "conv3_block3_1_conv (Conv2D)    (None, None, None, 1 65664       conv3_block2_out[0][0]           \n",
            "__________________________________________________________________________________________________\n",
            "conv3_block3_1_bn (BatchNormali (None, None, None, 1 512         conv3_block3_1_conv[0][0]        \n",
            "__________________________________________________________________________________________________\n",
            "conv3_block3_1_relu (Activation (None, None, None, 1 0           conv3_block3_1_bn[0][0]          \n",
            "__________________________________________________________________________________________________\n",
            "conv3_block3_2_conv (Conv2D)    (None, None, None, 1 147584      conv3_block3_1_relu[0][0]        \n",
            "__________________________________________________________________________________________________\n",
            "conv3_block3_2_bn (BatchNormali (None, None, None, 1 512         conv3_block3_2_conv[0][0]        \n",
            "__________________________________________________________________________________________________\n",
            "conv3_block3_2_relu (Activation (None, None, None, 1 0           conv3_block3_2_bn[0][0]          \n",
            "__________________________________________________________________________________________________\n",
            "conv3_block3_3_conv (Conv2D)    (None, None, None, 5 66048       conv3_block3_2_relu[0][0]        \n",
            "__________________________________________________________________________________________________\n",
            "conv3_block3_3_bn (BatchNormali (None, None, None, 5 2048        conv3_block3_3_conv[0][0]        \n",
            "__________________________________________________________________________________________________\n",
            "conv3_block3_add (Add)          (None, None, None, 5 0           conv3_block2_out[0][0]           \n",
            "                                                                 conv3_block3_3_bn[0][0]          \n",
            "__________________________________________________________________________________________________\n",
            "conv3_block3_out (Activation)   (None, None, None, 5 0           conv3_block3_add[0][0]           \n",
            "__________________________________________________________________________________________________\n",
            "conv3_block4_1_conv (Conv2D)    (None, None, None, 1 65664       conv3_block3_out[0][0]           \n",
            "__________________________________________________________________________________________________\n",
            "conv3_block4_1_bn (BatchNormali (None, None, None, 1 512         conv3_block4_1_conv[0][0]        \n",
            "__________________________________________________________________________________________________\n",
            "conv3_block4_1_relu (Activation (None, None, None, 1 0           conv3_block4_1_bn[0][0]          \n",
            "__________________________________________________________________________________________________\n",
            "conv3_block4_2_conv (Conv2D)    (None, None, None, 1 147584      conv3_block4_1_relu[0][0]        \n",
            "__________________________________________________________________________________________________\n",
            "conv3_block4_2_bn (BatchNormali (None, None, None, 1 512         conv3_block4_2_conv[0][0]        \n",
            "__________________________________________________________________________________________________\n",
            "conv3_block4_2_relu (Activation (None, None, None, 1 0           conv3_block4_2_bn[0][0]          \n",
            "__________________________________________________________________________________________________\n",
            "conv3_block4_3_conv (Conv2D)    (None, None, None, 5 66048       conv3_block4_2_relu[0][0]        \n",
            "__________________________________________________________________________________________________\n",
            "conv3_block4_3_bn (BatchNormali (None, None, None, 5 2048        conv3_block4_3_conv[0][0]        \n",
            "__________________________________________________________________________________________________\n",
            "conv3_block4_add (Add)          (None, None, None, 5 0           conv3_block3_out[0][0]           \n",
            "                                                                 conv3_block4_3_bn[0][0]          \n",
            "__________________________________________________________________________________________________\n",
            "conv3_block4_out (Activation)   (None, None, None, 5 0           conv3_block4_add[0][0]           \n",
            "__________________________________________________________________________________________________\n",
            "conv4_block1_1_conv (Conv2D)    (None, None, None, 2 131328      conv3_block4_out[0][0]           \n",
            "__________________________________________________________________________________________________\n",
            "conv4_block1_1_bn (BatchNormali (None, None, None, 2 1024        conv4_block1_1_conv[0][0]        \n",
            "__________________________________________________________________________________________________\n",
            "conv4_block1_1_relu (Activation (None, None, None, 2 0           conv4_block1_1_bn[0][0]          \n",
            "__________________________________________________________________________________________________\n",
            "conv4_block1_2_conv (Conv2D)    (None, None, None, 2 590080      conv4_block1_1_relu[0][0]        \n",
            "__________________________________________________________________________________________________\n",
            "conv4_block1_2_bn (BatchNormali (None, None, None, 2 1024        conv4_block1_2_conv[0][0]        \n",
            "__________________________________________________________________________________________________\n",
            "conv4_block1_2_relu (Activation (None, None, None, 2 0           conv4_block1_2_bn[0][0]          \n",
            "__________________________________________________________________________________________________\n",
            "conv4_block1_0_conv (Conv2D)    (None, None, None, 1 525312      conv3_block4_out[0][0]           \n",
            "__________________________________________________________________________________________________\n",
            "conv4_block1_3_conv (Conv2D)    (None, None, None, 1 263168      conv4_block1_2_relu[0][0]        \n",
            "__________________________________________________________________________________________________\n",
            "conv4_block1_0_bn (BatchNormali (None, None, None, 1 4096        conv4_block1_0_conv[0][0]        \n",
            "__________________________________________________________________________________________________\n",
            "conv4_block1_3_bn (BatchNormali (None, None, None, 1 4096        conv4_block1_3_conv[0][0]        \n",
            "__________________________________________________________________________________________________\n",
            "conv4_block1_add (Add)          (None, None, None, 1 0           conv4_block1_0_bn[0][0]          \n",
            "                                                                 conv4_block1_3_bn[0][0]          \n",
            "__________________________________________________________________________________________________\n",
            "conv4_block1_out (Activation)   (None, None, None, 1 0           conv4_block1_add[0][0]           \n",
            "__________________________________________________________________________________________________\n",
            "conv4_block2_1_conv (Conv2D)    (None, None, None, 2 262400      conv4_block1_out[0][0]           \n",
            "__________________________________________________________________________________________________\n",
            "conv4_block2_1_bn (BatchNormali (None, None, None, 2 1024        conv4_block2_1_conv[0][0]        \n",
            "__________________________________________________________________________________________________\n",
            "conv4_block2_1_relu (Activation (None, None, None, 2 0           conv4_block2_1_bn[0][0]          \n",
            "__________________________________________________________________________________________________\n",
            "conv4_block2_2_conv (Conv2D)    (None, None, None, 2 590080      conv4_block2_1_relu[0][0]        \n",
            "__________________________________________________________________________________________________\n",
            "conv4_block2_2_bn (BatchNormali (None, None, None, 2 1024        conv4_block2_2_conv[0][0]        \n",
            "__________________________________________________________________________________________________\n",
            "conv4_block2_2_relu (Activation (None, None, None, 2 0           conv4_block2_2_bn[0][0]          \n",
            "__________________________________________________________________________________________________\n",
            "conv4_block2_3_conv (Conv2D)    (None, None, None, 1 263168      conv4_block2_2_relu[0][0]        \n",
            "__________________________________________________________________________________________________\n",
            "conv4_block2_3_bn (BatchNormali (None, None, None, 1 4096        conv4_block2_3_conv[0][0]        \n",
            "__________________________________________________________________________________________________\n",
            "conv4_block2_add (Add)          (None, None, None, 1 0           conv4_block1_out[0][0]           \n",
            "                                                                 conv4_block2_3_bn[0][0]          \n",
            "__________________________________________________________________________________________________\n",
            "conv4_block2_out (Activation)   (None, None, None, 1 0           conv4_block2_add[0][0]           \n",
            "__________________________________________________________________________________________________\n",
            "conv4_block3_1_conv (Conv2D)    (None, None, None, 2 262400      conv4_block2_out[0][0]           \n",
            "__________________________________________________________________________________________________\n",
            "conv4_block3_1_bn (BatchNormali (None, None, None, 2 1024        conv4_block3_1_conv[0][0]        \n",
            "__________________________________________________________________________________________________\n",
            "conv4_block3_1_relu (Activation (None, None, None, 2 0           conv4_block3_1_bn[0][0]          \n",
            "__________________________________________________________________________________________________\n",
            "conv4_block3_2_conv (Conv2D)    (None, None, None, 2 590080      conv4_block3_1_relu[0][0]        \n",
            "__________________________________________________________________________________________________\n",
            "conv4_block3_2_bn (BatchNormali (None, None, None, 2 1024        conv4_block3_2_conv[0][0]        \n",
            "__________________________________________________________________________________________________\n",
            "conv4_block3_2_relu (Activation (None, None, None, 2 0           conv4_block3_2_bn[0][0]          \n",
            "__________________________________________________________________________________________________\n",
            "conv4_block3_3_conv (Conv2D)    (None, None, None, 1 263168      conv4_block3_2_relu[0][0]        \n",
            "__________________________________________________________________________________________________\n",
            "conv4_block3_3_bn (BatchNormali (None, None, None, 1 4096        conv4_block3_3_conv[0][0]        \n",
            "__________________________________________________________________________________________________\n",
            "conv4_block3_add (Add)          (None, None, None, 1 0           conv4_block2_out[0][0]           \n",
            "                                                                 conv4_block3_3_bn[0][0]          \n",
            "__________________________________________________________________________________________________\n",
            "conv4_block3_out (Activation)   (None, None, None, 1 0           conv4_block3_add[0][0]           \n",
            "__________________________________________________________________________________________________\n",
            "conv4_block4_1_conv (Conv2D)    (None, None, None, 2 262400      conv4_block3_out[0][0]           \n",
            "__________________________________________________________________________________________________\n",
            "conv4_block4_1_bn (BatchNormali (None, None, None, 2 1024        conv4_block4_1_conv[0][0]        \n",
            "__________________________________________________________________________________________________\n",
            "conv4_block4_1_relu (Activation (None, None, None, 2 0           conv4_block4_1_bn[0][0]          \n",
            "__________________________________________________________________________________________________\n",
            "conv4_block4_2_conv (Conv2D)    (None, None, None, 2 590080      conv4_block4_1_relu[0][0]        \n",
            "__________________________________________________________________________________________________\n",
            "conv4_block4_2_bn (BatchNormali (None, None, None, 2 1024        conv4_block4_2_conv[0][0]        \n",
            "__________________________________________________________________________________________________\n",
            "conv4_block4_2_relu (Activation (None, None, None, 2 0           conv4_block4_2_bn[0][0]          \n",
            "__________________________________________________________________________________________________\n",
            "conv4_block4_3_conv (Conv2D)    (None, None, None, 1 263168      conv4_block4_2_relu[0][0]        \n",
            "__________________________________________________________________________________________________\n",
            "conv4_block4_3_bn (BatchNormali (None, None, None, 1 4096        conv4_block4_3_conv[0][0]        \n",
            "__________________________________________________________________________________________________\n",
            "conv4_block4_add (Add)          (None, None, None, 1 0           conv4_block3_out[0][0]           \n",
            "                                                                 conv4_block4_3_bn[0][0]          \n",
            "__________________________________________________________________________________________________\n",
            "conv4_block4_out (Activation)   (None, None, None, 1 0           conv4_block4_add[0][0]           \n",
            "__________________________________________________________________________________________________\n",
            "conv4_block5_1_conv (Conv2D)    (None, None, None, 2 262400      conv4_block4_out[0][0]           \n",
            "__________________________________________________________________________________________________\n",
            "conv4_block5_1_bn (BatchNormali (None, None, None, 2 1024        conv4_block5_1_conv[0][0]        \n",
            "__________________________________________________________________________________________________\n",
            "conv4_block5_1_relu (Activation (None, None, None, 2 0           conv4_block5_1_bn[0][0]          \n",
            "__________________________________________________________________________________________________\n",
            "conv4_block5_2_conv (Conv2D)    (None, None, None, 2 590080      conv4_block5_1_relu[0][0]        \n",
            "__________________________________________________________________________________________________\n",
            "conv4_block5_2_bn (BatchNormali (None, None, None, 2 1024        conv4_block5_2_conv[0][0]        \n",
            "__________________________________________________________________________________________________\n",
            "conv4_block5_2_relu (Activation (None, None, None, 2 0           conv4_block5_2_bn[0][0]          \n",
            "__________________________________________________________________________________________________\n",
            "conv4_block5_3_conv (Conv2D)    (None, None, None, 1 263168      conv4_block5_2_relu[0][0]        \n",
            "__________________________________________________________________________________________________\n",
            "conv4_block5_3_bn (BatchNormali (None, None, None, 1 4096        conv4_block5_3_conv[0][0]        \n",
            "__________________________________________________________________________________________________\n",
            "conv4_block5_add (Add)          (None, None, None, 1 0           conv4_block4_out[0][0]           \n",
            "                                                                 conv4_block5_3_bn[0][0]          \n",
            "__________________________________________________________________________________________________\n",
            "conv4_block5_out (Activation)   (None, None, None, 1 0           conv4_block5_add[0][0]           \n",
            "__________________________________________________________________________________________________\n",
            "conv4_block6_1_conv (Conv2D)    (None, None, None, 2 262400      conv4_block5_out[0][0]           \n",
            "__________________________________________________________________________________________________\n",
            "conv4_block6_1_bn (BatchNormali (None, None, None, 2 1024        conv4_block6_1_conv[0][0]        \n",
            "__________________________________________________________________________________________________\n",
            "conv4_block6_1_relu (Activation (None, None, None, 2 0           conv4_block6_1_bn[0][0]          \n",
            "__________________________________________________________________________________________________\n",
            "conv4_block6_2_conv (Conv2D)    (None, None, None, 2 590080      conv4_block6_1_relu[0][0]        \n",
            "__________________________________________________________________________________________________\n",
            "conv4_block6_2_bn (BatchNormali (None, None, None, 2 1024        conv4_block6_2_conv[0][0]        \n",
            "__________________________________________________________________________________________________\n",
            "conv4_block6_2_relu (Activation (None, None, None, 2 0           conv4_block6_2_bn[0][0]          \n",
            "__________________________________________________________________________________________________\n",
            "conv4_block6_3_conv (Conv2D)    (None, None, None, 1 263168      conv4_block6_2_relu[0][0]        \n",
            "__________________________________________________________________________________________________\n",
            "conv4_block6_3_bn (BatchNormali (None, None, None, 1 4096        conv4_block6_3_conv[0][0]        \n",
            "__________________________________________________________________________________________________\n",
            "conv4_block6_add (Add)          (None, None, None, 1 0           conv4_block5_out[0][0]           \n",
            "                                                                 conv4_block6_3_bn[0][0]          \n",
            "__________________________________________________________________________________________________\n",
            "conv4_block6_out (Activation)   (None, None, None, 1 0           conv4_block6_add[0][0]           \n",
            "__________________________________________________________________________________________________\n",
            "conv5_block1_1_conv (Conv2D)    (None, None, None, 5 524800      conv4_block6_out[0][0]           \n",
            "__________________________________________________________________________________________________\n",
            "conv5_block1_1_bn (BatchNormali (None, None, None, 5 2048        conv5_block1_1_conv[0][0]        \n",
            "__________________________________________________________________________________________________\n",
            "conv5_block1_1_relu (Activation (None, None, None, 5 0           conv5_block1_1_bn[0][0]          \n",
            "__________________________________________________________________________________________________\n",
            "conv5_block1_2_conv (Conv2D)    (None, None, None, 5 2359808     conv5_block1_1_relu[0][0]        \n",
            "__________________________________________________________________________________________________\n",
            "conv5_block1_2_bn (BatchNormali (None, None, None, 5 2048        conv5_block1_2_conv[0][0]        \n",
            "__________________________________________________________________________________________________\n",
            "conv5_block1_2_relu (Activation (None, None, None, 5 0           conv5_block1_2_bn[0][0]          \n",
            "__________________________________________________________________________________________________\n",
            "conv5_block1_0_conv (Conv2D)    (None, None, None, 2 2099200     conv4_block6_out[0][0]           \n",
            "__________________________________________________________________________________________________\n",
            "conv5_block1_3_conv (Conv2D)    (None, None, None, 2 1050624     conv5_block1_2_relu[0][0]        \n",
            "__________________________________________________________________________________________________\n",
            "conv5_block1_0_bn (BatchNormali (None, None, None, 2 8192        conv5_block1_0_conv[0][0]        \n",
            "__________________________________________________________________________________________________\n",
            "conv5_block1_3_bn (BatchNormali (None, None, None, 2 8192        conv5_block1_3_conv[0][0]        \n",
            "__________________________________________________________________________________________________\n",
            "conv5_block1_add (Add)          (None, None, None, 2 0           conv5_block1_0_bn[0][0]          \n",
            "                                                                 conv5_block1_3_bn[0][0]          \n",
            "__________________________________________________________________________________________________\n",
            "conv5_block1_out (Activation)   (None, None, None, 2 0           conv5_block1_add[0][0]           \n",
            "__________________________________________________________________________________________________\n",
            "conv5_block2_1_conv (Conv2D)    (None, None, None, 5 1049088     conv5_block1_out[0][0]           \n",
            "__________________________________________________________________________________________________\n",
            "conv5_block2_1_bn (BatchNormali (None, None, None, 5 2048        conv5_block2_1_conv[0][0]        \n",
            "__________________________________________________________________________________________________\n",
            "conv5_block2_1_relu (Activation (None, None, None, 5 0           conv5_block2_1_bn[0][0]          \n",
            "__________________________________________________________________________________________________\n",
            "conv5_block2_2_conv (Conv2D)    (None, None, None, 5 2359808     conv5_block2_1_relu[0][0]        \n",
            "__________________________________________________________________________________________________\n",
            "conv5_block2_2_bn (BatchNormali (None, None, None, 5 2048        conv5_block2_2_conv[0][0]        \n",
            "__________________________________________________________________________________________________\n",
            "conv5_block2_2_relu (Activation (None, None, None, 5 0           conv5_block2_2_bn[0][0]          \n",
            "__________________________________________________________________________________________________\n",
            "conv5_block2_3_conv (Conv2D)    (None, None, None, 2 1050624     conv5_block2_2_relu[0][0]        \n",
            "__________________________________________________________________________________________________\n",
            "conv5_block2_3_bn (BatchNormali (None, None, None, 2 8192        conv5_block2_3_conv[0][0]        \n",
            "__________________________________________________________________________________________________\n",
            "conv5_block2_add (Add)          (None, None, None, 2 0           conv5_block1_out[0][0]           \n",
            "                                                                 conv5_block2_3_bn[0][0]          \n",
            "__________________________________________________________________________________________________\n",
            "conv5_block2_out (Activation)   (None, None, None, 2 0           conv5_block2_add[0][0]           \n",
            "__________________________________________________________________________________________________\n",
            "conv5_block3_1_conv (Conv2D)    (None, None, None, 5 1049088     conv5_block2_out[0][0]           \n",
            "__________________________________________________________________________________________________\n",
            "conv5_block3_1_bn (BatchNormali (None, None, None, 5 2048        conv5_block3_1_conv[0][0]        \n",
            "__________________________________________________________________________________________________\n",
            "conv5_block3_1_relu (Activation (None, None, None, 5 0           conv5_block3_1_bn[0][0]          \n",
            "__________________________________________________________________________________________________\n",
            "conv5_block3_2_conv (Conv2D)    (None, None, None, 5 2359808     conv5_block3_1_relu[0][0]        \n",
            "__________________________________________________________________________________________________\n",
            "conv5_block3_2_bn (BatchNormali (None, None, None, 5 2048        conv5_block3_2_conv[0][0]        \n",
            "__________________________________________________________________________________________________\n",
            "conv5_block3_2_relu (Activation (None, None, None, 5 0           conv5_block3_2_bn[0][0]          \n",
            "__________________________________________________________________________________________________\n",
            "conv5_block3_3_conv (Conv2D)    (None, None, None, 2 1050624     conv5_block3_2_relu[0][0]        \n",
            "__________________________________________________________________________________________________\n",
            "conv5_block3_3_bn (BatchNormali (None, None, None, 2 8192        conv5_block3_3_conv[0][0]        \n",
            "__________________________________________________________________________________________________\n",
            "conv5_block3_add (Add)          (None, None, None, 2 0           conv5_block2_out[0][0]           \n",
            "                                                                 conv5_block3_3_bn[0][0]          \n",
            "__________________________________________________________________________________________________\n",
            "conv5_block3_out (Activation)   (None, None, None, 2 0           conv5_block3_add[0][0]           \n",
            "__________________________________________________________________________________________________\n",
            "global_average_pooling2d (Globa (None, 2048)         0           conv5_block3_out[0][0]           \n",
            "__________________________________________________________________________________________________\n",
            "dense (Dense)                   (None, 1024)         2098176     global_average_pooling2d[0][0]   \n",
            "__________________________________________________________________________________________________\n",
            "dropout (Dropout)               (None, 1024)         0           dense[0][0]                      \n",
            "__________________________________________________________________________________________________\n",
            "dense_1 (Dense)                 (None, 512)          524800      dropout[0][0]                    \n",
            "__________________________________________________________________________________________________\n",
            "dropout_1 (Dropout)             (None, 512)          0           dense_1[0][0]                    \n",
            "__________________________________________________________________________________________________\n",
            "OutputLayer (Dense)             (None, 1)            513         dropout_1[0][0]                  \n",
            "==================================================================================================\n",
            "Total params: 26,211,201\n",
            "Trainable params: 2,623,489\n",
            "Non-trainable params: 23,587,712\n",
            "__________________________________________________________________________________________________\n"
          ],
          "name": "stdout"
        }
      ]
    },
    {
      "cell_type": "markdown",
      "metadata": {
        "id": "3uchGJheehUx",
        "colab_type": "text"
      },
      "source": [
        "## Fit Model"
      ]
    },
    {
      "cell_type": "code",
      "metadata": {
        "id": "ojR_bqM7ehUy",
        "colab_type": "code",
        "outputId": "479082ad-a7bc-4de4-f5c5-9c2771320330",
        "colab": {
          "base_uri": "https://localhost:8080/",
          "height": 1000
        }
      },
      "source": [
        "history = model.fit(\n",
        "    train_data_gen,\n",
        "    steps_per_epoch=total_train // batch_size,\n",
        "    epochs=epochs,\n",
        "    validation_data=val_data_gen,\n",
        "    validation_steps=total_val // batch_size\n",
        ")"
      ],
      "execution_count": 11,
      "outputs": [
        {
          "output_type": "stream",
          "text": [
            "Epoch 1/50\n",
            "32/32 [==============================] - 7s 210ms/step - loss: 0.9103 - accuracy: 0.4770 - val_loss: 0.7201 - val_accuracy: 0.3466\n",
            "Epoch 2/50\n",
            "32/32 [==============================] - 5s 160ms/step - loss: 0.7024 - accuracy: 0.5569 - val_loss: 0.7264 - val_accuracy: 0.3580\n",
            "Epoch 3/50\n",
            "32/32 [==============================] - 5s 161ms/step - loss: 0.6575 - accuracy: 0.5908 - val_loss: 0.6448 - val_accuracy: 0.6989\n",
            "Epoch 4/50\n",
            "32/32 [==============================] - 5s 160ms/step - loss: 0.6190 - accuracy: 0.6427 - val_loss: 0.5441 - val_accuracy: 0.7102\n",
            "Epoch 5/50\n",
            "32/32 [==============================] - 5s 161ms/step - loss: 0.5570 - accuracy: 0.7405 - val_loss: 0.5726 - val_accuracy: 0.7557\n",
            "Epoch 6/50\n",
            "32/32 [==============================] - 5s 162ms/step - loss: 0.5420 - accuracy: 0.7046 - val_loss: 0.4295 - val_accuracy: 0.8409\n",
            "Epoch 7/50\n",
            "32/32 [==============================] - 5s 162ms/step - loss: 0.4438 - accuracy: 0.8144 - val_loss: 0.4008 - val_accuracy: 0.8239\n",
            "Epoch 8/50\n",
            "32/32 [==============================] - 5s 161ms/step - loss: 0.4209 - accuracy: 0.8164 - val_loss: 0.4161 - val_accuracy: 0.8409\n",
            "Epoch 9/50\n",
            "32/32 [==============================] - 5s 161ms/step - loss: 0.3754 - accuracy: 0.8423 - val_loss: 0.4706 - val_accuracy: 0.8125\n",
            "Epoch 10/50\n",
            "32/32 [==============================] - 5s 161ms/step - loss: 0.3435 - accuracy: 0.8683 - val_loss: 0.6468 - val_accuracy: 0.7102\n",
            "Epoch 11/50\n",
            "32/32 [==============================] - 5s 161ms/step - loss: 0.3512 - accuracy: 0.8443 - val_loss: 0.3817 - val_accuracy: 0.8636\n",
            "Epoch 12/50\n",
            "32/32 [==============================] - 5s 161ms/step - loss: 0.3341 - accuracy: 0.8782 - val_loss: 0.2854 - val_accuracy: 0.9148\n",
            "Epoch 13/50\n",
            "32/32 [==============================] - 5s 161ms/step - loss: 0.2898 - accuracy: 0.8802 - val_loss: 0.2963 - val_accuracy: 0.9205\n",
            "Epoch 14/50\n",
            "32/32 [==============================] - 5s 161ms/step - loss: 0.3168 - accuracy: 0.8603 - val_loss: 0.5110 - val_accuracy: 0.7784\n",
            "Epoch 15/50\n",
            "32/32 [==============================] - 5s 160ms/step - loss: 0.2895 - accuracy: 0.8603 - val_loss: 0.3238 - val_accuracy: 0.8295\n",
            "Epoch 16/50\n",
            "32/32 [==============================] - 5s 160ms/step - loss: 0.3408 - accuracy: 0.8543 - val_loss: 0.2755 - val_accuracy: 0.8920\n",
            "Epoch 17/50\n",
            "32/32 [==============================] - 5s 161ms/step - loss: 0.2448 - accuracy: 0.8862 - val_loss: 0.4770 - val_accuracy: 0.8182\n",
            "Epoch 18/50\n",
            "32/32 [==============================] - 5s 160ms/step - loss: 0.2194 - accuracy: 0.9182 - val_loss: 0.2593 - val_accuracy: 0.9148\n",
            "Epoch 19/50\n",
            "32/32 [==============================] - 5s 160ms/step - loss: 0.2781 - accuracy: 0.8942 - val_loss: 0.5488 - val_accuracy: 0.7841\n",
            "Epoch 20/50\n",
            "32/32 [==============================] - 5s 162ms/step - loss: 0.2541 - accuracy: 0.8802 - val_loss: 0.4262 - val_accuracy: 0.7898\n",
            "Epoch 21/50\n",
            "32/32 [==============================] - 5s 162ms/step - loss: 0.2495 - accuracy: 0.9004 - val_loss: 0.2214 - val_accuracy: 0.9375\n",
            "Epoch 22/50\n",
            "32/32 [==============================] - 5s 161ms/step - loss: 0.1914 - accuracy: 0.9261 - val_loss: 0.2288 - val_accuracy: 0.9205\n",
            "Epoch 23/50\n",
            "32/32 [==============================] - 5s 161ms/step - loss: 0.1897 - accuracy: 0.9261 - val_loss: 0.8877 - val_accuracy: 0.6080\n",
            "Epoch 24/50\n",
            "32/32 [==============================] - 5s 160ms/step - loss: 0.2612 - accuracy: 0.9002 - val_loss: 0.4035 - val_accuracy: 0.8352\n",
            "Epoch 25/50\n",
            "32/32 [==============================] - 5s 161ms/step - loss: 0.2015 - accuracy: 0.9361 - val_loss: 0.5045 - val_accuracy: 0.8011\n",
            "Epoch 26/50\n",
            "32/32 [==============================] - 5s 160ms/step - loss: 0.2718 - accuracy: 0.8762 - val_loss: 0.3257 - val_accuracy: 0.8068\n",
            "Epoch 27/50\n",
            "32/32 [==============================] - 5s 161ms/step - loss: 0.2424 - accuracy: 0.9122 - val_loss: 0.3505 - val_accuracy: 0.8409\n",
            "Epoch 28/50\n",
            "32/32 [==============================] - 5s 160ms/step - loss: 0.2183 - accuracy: 0.9182 - val_loss: 0.2106 - val_accuracy: 0.9432\n",
            "Epoch 29/50\n",
            "32/32 [==============================] - 5s 161ms/step - loss: 0.1798 - accuracy: 0.9361 - val_loss: 0.2367 - val_accuracy: 0.9148\n",
            "Epoch 30/50\n",
            "32/32 [==============================] - 5s 163ms/step - loss: 0.1942 - accuracy: 0.9281 - val_loss: 0.2467 - val_accuracy: 0.9091\n",
            "Epoch 31/50\n",
            "32/32 [==============================] - 5s 160ms/step - loss: 0.2628 - accuracy: 0.8882 - val_loss: 0.3714 - val_accuracy: 0.8239\n",
            "Epoch 32/50\n",
            "32/32 [==============================] - 5s 160ms/step - loss: 0.2192 - accuracy: 0.9102 - val_loss: 0.2559 - val_accuracy: 0.8807\n",
            "Epoch 33/50\n",
            "32/32 [==============================] - 5s 161ms/step - loss: 0.2048 - accuracy: 0.9122 - val_loss: 0.4867 - val_accuracy: 0.7841\n",
            "Epoch 34/50\n",
            "32/32 [==============================] - 5s 160ms/step - loss: 0.2032 - accuracy: 0.9162 - val_loss: 0.2021 - val_accuracy: 0.9489\n",
            "Epoch 35/50\n",
            "32/32 [==============================] - 5s 160ms/step - loss: 0.1982 - accuracy: 0.9162 - val_loss: 0.2219 - val_accuracy: 0.9091\n",
            "Epoch 36/50\n",
            "32/32 [==============================] - 5s 160ms/step - loss: 0.2977 - accuracy: 0.8583 - val_loss: 0.2202 - val_accuracy: 0.9148\n",
            "Epoch 37/50\n",
            "32/32 [==============================] - 5s 161ms/step - loss: 0.1948 - accuracy: 0.9361 - val_loss: 0.2624 - val_accuracy: 0.8807\n",
            "Epoch 38/50\n",
            "32/32 [==============================] - 5s 161ms/step - loss: 0.2144 - accuracy: 0.9202 - val_loss: 0.2434 - val_accuracy: 0.8864\n",
            "Epoch 39/50\n",
            "32/32 [==============================] - 5s 160ms/step - loss: 0.1883 - accuracy: 0.9142 - val_loss: 0.1856 - val_accuracy: 0.9489\n",
            "Epoch 40/50\n",
            "32/32 [==============================] - 5s 161ms/step - loss: 0.1749 - accuracy: 0.9222 - val_loss: 0.2027 - val_accuracy: 0.9318\n",
            "Epoch 41/50\n",
            "32/32 [==============================] - 5s 160ms/step - loss: 0.1926 - accuracy: 0.9321 - val_loss: 0.2330 - val_accuracy: 0.9148\n",
            "Epoch 42/50\n",
            "32/32 [==============================] - 5s 161ms/step - loss: 0.2811 - accuracy: 0.8822 - val_loss: 0.2699 - val_accuracy: 0.8636\n",
            "Epoch 43/50\n",
            "32/32 [==============================] - 5s 161ms/step - loss: 0.3082 - accuracy: 0.8623 - val_loss: 0.2346 - val_accuracy: 0.9261\n",
            "Epoch 44/50\n",
            "32/32 [==============================] - 5s 160ms/step - loss: 0.2047 - accuracy: 0.9361 - val_loss: 0.2265 - val_accuracy: 0.9148\n",
            "Epoch 45/50\n",
            "32/32 [==============================] - 5s 160ms/step - loss: 0.1960 - accuracy: 0.9261 - val_loss: 0.1804 - val_accuracy: 0.9375\n",
            "Epoch 46/50\n",
            "32/32 [==============================] - 5s 161ms/step - loss: 0.2018 - accuracy: 0.9281 - val_loss: 0.2408 - val_accuracy: 0.8920\n",
            "Epoch 47/50\n",
            "32/32 [==============================] - 5s 162ms/step - loss: 0.2260 - accuracy: 0.9162 - val_loss: 0.2708 - val_accuracy: 0.8920\n",
            "Epoch 48/50\n",
            "32/32 [==============================] - 5s 161ms/step - loss: 0.2451 - accuracy: 0.8982 - val_loss: 0.2358 - val_accuracy: 0.9034\n",
            "Epoch 49/50\n",
            "32/32 [==============================] - 5s 160ms/step - loss: 0.2240 - accuracy: 0.9202 - val_loss: 0.3164 - val_accuracy: 0.8636\n",
            "Epoch 50/50\n",
            "32/32 [==============================] - 5s 160ms/step - loss: 0.2472 - accuracy: 0.8942 - val_loss: 0.2895 - val_accuracy: 0.8750\n"
          ],
          "name": "stdout"
        }
      ]
    },
    {
      "cell_type": "code",
      "metadata": {
        "id": "cG26oD6L76_2",
        "colab_type": "code",
        "colab": {}
      },
      "source": [
        "# Going to make predictions for each image here....\n",
        "\n",
        "from tensorflow.keras.preprocessing import image\n",
        "def process_img_path(img_path):\n",
        "  \"\"\"For loading images.\"\"\"\n",
        "  return image.load_img(img_path, target_size=(224, 224))\n",
        "\n",
        "def img_predictions(img):\n",
        "  \"\"\"Takes a single image as input and makes a classification prediction.\"\"\"\n",
        "  x = image.img_to_array(img)\n",
        "  x = np.expand_dims(x, axis=0)\n",
        "  x = preprocess_input(x)\n",
        "  model = ResNet50(weights='imagenet')\n",
        "  features = model.predict(x)\n",
        "  results = decode_predictions(features, top=3)[0]  # Top 3 predictions\n",
        "  print(results)"
      ],
      "execution_count": 0,
      "outputs": []
    },
    {
      "cell_type": "code",
      "metadata": {
        "id": "d0FPBbweM8GX",
        "colab_type": "code",
        "colab": {
          "base_uri": "https://localhost:8080/",
          "height": 696
        },
        "outputId": "6d582c8c-e2d1-4327-f78b-d33ec76dadb1"
      },
      "source": [
        "for directory in os.listdir(train_dir)[:-1]:  # For both mountain and forest directories....\n",
        "  print(f\"Predictions for First Five Images in '{directory}':\")\n",
        "  print('-' * 120)\n",
        "  for image_file in os.listdir(train_dir + '/' + directory)[:5]:  # First 5 files in that directory\n",
        "    if image_file == '.ipynb_checkpoints':\n",
        "      pass\n",
        "    else:\n",
        "      image_to_predict = f'{train_dir}/{directory}/{image_file}'  # This will be our image to predict.\n",
        "      print(f'Top 3 Predictions For: {directory}/{image_file}')\n",
        "      img_predictions(process_img_path(image_to_predict))\n",
        "      print('-' * 120)\n",
        "  print('=' * 120)"
      ],
      "execution_count": 13,
      "outputs": [
        {
          "output_type": "stream",
          "text": [
            "Predictions for First Five Images in 'mountain':\n",
            "------------------------------------------------------------------------------------------------------------------------\n",
            "Top 3 Predictions For: mountain/land180.jpg\n",
            "[('n09193705', 'alp', 0.8629033), ('n09468604', 'valley', 0.03242456), ('n03792972', 'mountain_tent', 0.010283834)]\n",
            "------------------------------------------------------------------------------------------------------------------------\n",
            "Top 3 Predictions For: mountain/nat57.jpg\n",
            "[('n09193705', 'alp', 0.6216985), ('n09468604', 'valley', 0.26169926), ('n09246464', 'cliff', 0.081158295)]\n",
            "------------------------------------------------------------------------------------------------------------------------\n",
            "Top 3 Predictions For: mountain/land198.jpg\n",
            "[('n09193705', 'alp', 0.62811935), ('n09468604', 'valley', 0.36794987), ('n03792782', 'mountain_bike', 0.00088001863)]\n",
            "------------------------------------------------------------------------------------------------------------------------\n",
            "Top 3 Predictions For: mountain/nat54.jpg\n",
            "[('n09193705', 'alp', 0.8884371), ('n09468604', 'valley', 0.042624973), ('n03792972', 'mountain_tent', 0.020269163)]\n",
            "------------------------------------------------------------------------------------------------------------------------\n",
            "Top 3 Predictions For: mountain/moun38.jpg\n",
            "[('n09468604', 'valley', 0.79881924), ('n09246464', 'cliff', 0.057327423), ('n09193705', 'alp', 0.040296625)]\n",
            "------------------------------------------------------------------------------------------------------------------------\n",
            "========================================================================================================================\n",
            "Predictions for First Five Images in 'forest':\n",
            "------------------------------------------------------------------------------------------------------------------------\n",
            "Top 3 Predictions For: forest/nat867.jpg\n",
            "[('n03792972', 'mountain_tent', 0.25132516), ('n09332890', 'lakeside', 0.1087753), ('n09468604', 'valley', 0.06300684)]\n",
            "------------------------------------------------------------------------------------------------------------------------\n",
            "Top 3 Predictions For: forest/land866.jpg\n",
            "[('n09193705', 'alp', 0.15671627), ('n03733281', 'maze', 0.09140342), ('n07802026', 'hay', 0.08817358)]\n",
            "------------------------------------------------------------------------------------------------------------------------\n",
            "Top 3 Predictions For: forest/natu15.jpg\n",
            "[('n09468604', 'valley', 0.30290365), ('n09428293', 'seashore', 0.16299385), ('n04258138', 'solar_dish', 0.043637346)]\n",
            "------------------------------------------------------------------------------------------------------------------------\n",
            "Top 3 Predictions For: forest/text20.jpg\n",
            "[('n03991062', 'pot', 0.3680913), ('n03457902', 'greenhouse', 0.22362195), ('n07714990', 'broccoli', 0.05788191)]\n",
            "------------------------------------------------------------------------------------------------------------------------\n",
            "Top 3 Predictions For: forest/sclos11.jpg\n",
            "[('n02951358', 'canoe', 0.40942734), ('n09468604', 'valley', 0.38185215), ('n03873416', 'paddle', 0.05042826)]\n",
            "------------------------------------------------------------------------------------------------------------------------\n",
            "========================================================================================================================\n"
          ],
          "name": "stdout"
        }
      ]
    },
    {
      "cell_type": "markdown",
      "metadata": {
        "id": "IgzayNSGehVF",
        "colab_type": "text"
      },
      "source": [
        "# Custom CNN Model\n",
        "\n",
        "In this step, write and train your own convolutional neural network using Keras. You can use any architecture that suits you as long as it has at least one convolutional and one pooling layer at the beginning of the network - you can add more if you want. "
      ]
    },
    {
      "cell_type": "code",
      "metadata": {
        "id": "8vlzhtqrehVI",
        "colab_type": "code",
        "colab": {}
      },
      "source": [
        "# Define the Model\n",
        "from tensorflow.keras.models import Sequential\n",
        "from tensorflow.keras.layers import Conv2D, MaxPooling2D, Flatten\n",
        "\n",
        "CHNLS = 3\n",
        "\n",
        "model = Sequential()\n",
        "\n",
        "model.add(Conv2D(50, (3,3), activation='relu', input_shape=(IMG_HEIGHT, IMG_WIDTH, CHNLS), name='InputLayer'))\n",
        "model.add(MaxPooling2D((2,2), name='PoolingLayer1'))\n",
        "model.add(Conv2D(75, (3,3), activation='relu', name='ConvLayer2'))\n",
        "model.add(MaxPooling2D((2,2),  name='PoolingLayer2'))\n",
        "model.add(Flatten())\n",
        "model.add(Dense(50, activation='relu', name='HiddenDense'))\n",
        "model.add(Dense(1, activation='sigmoid', name='OutputLayer'))"
      ],
      "execution_count": 0,
      "outputs": []
    },
    {
      "cell_type": "code",
      "metadata": {
        "id": "_Y6bTU4sehVV",
        "colab_type": "code",
        "outputId": "0608c707-2ec8-4b9a-aa7d-2fd2d9db522a",
        "colab": {
          "base_uri": "https://localhost:8080/",
          "height": 432
        }
      },
      "source": [
        "# Compile Model\n",
        "model.compile(optimizer='adam', loss='binary_crossentropy', metrics=['accuracy'])\n",
        "model.summary()"
      ],
      "execution_count": 15,
      "outputs": [
        {
          "output_type": "stream",
          "text": [
            "Model: \"sequential\"\n",
            "_________________________________________________________________\n",
            "Layer (type)                 Output Shape              Param #   \n",
            "=================================================================\n",
            "InputLayer (Conv2D)          (None, 222, 222, 50)      1400      \n",
            "_________________________________________________________________\n",
            "PoolingLayer1 (MaxPooling2D) (None, 111, 111, 50)      0         \n",
            "_________________________________________________________________\n",
            "ConvLayer2 (Conv2D)          (None, 109, 109, 75)      33825     \n",
            "_________________________________________________________________\n",
            "PoolingLayer2 (MaxPooling2D) (None, 54, 54, 75)        0         \n",
            "_________________________________________________________________\n",
            "flatten (Flatten)            (None, 218700)            0         \n",
            "_________________________________________________________________\n",
            "HiddenDense (Dense)          (None, 50)                10935050  \n",
            "_________________________________________________________________\n",
            "OutputLayer (Dense)          (None, 1)                 51        \n",
            "=================================================================\n",
            "Total params: 10,970,326\n",
            "Trainable params: 10,970,326\n",
            "Non-trainable params: 0\n",
            "_________________________________________________________________\n"
          ],
          "name": "stdout"
        }
      ]
    },
    {
      "cell_type": "code",
      "metadata": {
        "id": "1YlMxb5hehVh",
        "colab_type": "code",
        "outputId": "f27ce73a-ee6d-48ea-aa84-90c02eeed2a8",
        "colab": {
          "base_uri": "https://localhost:8080/",
          "height": 1000
        }
      },
      "source": [
        "# Fit Model\n",
        "\n",
        "custom = model.fit(\n",
        "    train_data_gen,\n",
        "    steps_per_epoch=total_train // batch_size,\n",
        "    epochs=epochs,\n",
        "    validation_data=val_data_gen,\n",
        "    validation_steps=total_val // batch_size\n",
        ")"
      ],
      "execution_count": 16,
      "outputs": [
        {
          "output_type": "stream",
          "text": [
            "Epoch 1/50\n",
            "32/32 [==============================] - 3s 107ms/step - loss: 0.6590 - accuracy: 0.8423 - val_loss: 0.1843 - val_accuracy: 0.9318\n",
            "Epoch 2/50\n",
            "32/32 [==============================] - 3s 95ms/step - loss: 0.2314 - accuracy: 0.9022 - val_loss: 0.1726 - val_accuracy: 0.9375\n",
            "Epoch 3/50\n",
            "32/32 [==============================] - 3s 95ms/step - loss: 0.1528 - accuracy: 0.9242 - val_loss: 0.1570 - val_accuracy: 0.9261\n",
            "Epoch 4/50\n",
            "32/32 [==============================] - 3s 96ms/step - loss: 0.1237 - accuracy: 0.9551 - val_loss: 0.1685 - val_accuracy: 0.9489\n",
            "Epoch 5/50\n",
            "32/32 [==============================] - 3s 96ms/step - loss: 0.0667 - accuracy: 0.9701 - val_loss: 0.1788 - val_accuracy: 0.9261\n",
            "Epoch 6/50\n",
            "32/32 [==============================] - 3s 95ms/step - loss: 0.0806 - accuracy: 0.9681 - val_loss: 0.2296 - val_accuracy: 0.9148\n",
            "Epoch 7/50\n",
            "32/32 [==============================] - 3s 96ms/step - loss: 0.0551 - accuracy: 0.9741 - val_loss: 0.1322 - val_accuracy: 0.9545\n",
            "Epoch 8/50\n",
            "32/32 [==============================] - 3s 97ms/step - loss: 0.1131 - accuracy: 0.9551 - val_loss: 0.1590 - val_accuracy: 0.9375\n",
            "Epoch 9/50\n",
            "32/32 [==============================] - 3s 96ms/step - loss: 0.0397 - accuracy: 0.9883 - val_loss: 0.2304 - val_accuracy: 0.9148\n",
            "Epoch 10/50\n",
            "32/32 [==============================] - 3s 95ms/step - loss: 0.0145 - accuracy: 0.9980 - val_loss: 0.6522 - val_accuracy: 0.8523\n",
            "Epoch 11/50\n",
            "32/32 [==============================] - 3s 96ms/step - loss: 0.0288 - accuracy: 0.9900 - val_loss: 0.4792 - val_accuracy: 0.8693\n",
            "Epoch 12/50\n",
            "32/32 [==============================] - 3s 95ms/step - loss: 0.0060 - accuracy: 1.0000 - val_loss: 0.1734 - val_accuracy: 0.9545\n",
            "Epoch 13/50\n",
            "32/32 [==============================] - 3s 95ms/step - loss: 0.0013 - accuracy: 1.0000 - val_loss: 0.2560 - val_accuracy: 0.9432\n",
            "Epoch 14/50\n",
            "32/32 [==============================] - 3s 96ms/step - loss: 0.0011 - accuracy: 1.0000 - val_loss: 0.2890 - val_accuracy: 0.9318\n",
            "Epoch 15/50\n",
            "32/32 [==============================] - 3s 96ms/step - loss: 5.5760e-04 - accuracy: 1.0000 - val_loss: 0.2902 - val_accuracy: 0.9375\n",
            "Epoch 16/50\n",
            "32/32 [==============================] - 3s 96ms/step - loss: 3.6736e-04 - accuracy: 1.0000 - val_loss: 0.3266 - val_accuracy: 0.9318\n",
            "Epoch 17/50\n",
            "32/32 [==============================] - 3s 96ms/step - loss: 2.8806e-04 - accuracy: 1.0000 - val_loss: 0.3271 - val_accuracy: 0.9489\n",
            "Epoch 18/50\n",
            "32/32 [==============================] - 3s 96ms/step - loss: 2.2285e-04 - accuracy: 1.0000 - val_loss: 0.2700 - val_accuracy: 0.9489\n",
            "Epoch 19/50\n",
            "32/32 [==============================] - 3s 95ms/step - loss: 2.9148e-04 - accuracy: 1.0000 - val_loss: 0.2698 - val_accuracy: 0.9432\n",
            "Epoch 20/50\n",
            "32/32 [==============================] - 3s 96ms/step - loss: 2.1533e-04 - accuracy: 1.0000 - val_loss: 0.2576 - val_accuracy: 0.9602\n",
            "Epoch 21/50\n",
            "32/32 [==============================] - 3s 95ms/step - loss: 1.8519e-04 - accuracy: 1.0000 - val_loss: 0.3038 - val_accuracy: 0.9432\n",
            "Epoch 22/50\n",
            "32/32 [==============================] - 3s 96ms/step - loss: 1.5435e-04 - accuracy: 1.0000 - val_loss: 0.2228 - val_accuracy: 0.9602\n",
            "Epoch 23/50\n",
            "32/32 [==============================] - 3s 95ms/step - loss: 1.3081e-04 - accuracy: 1.0000 - val_loss: 0.2023 - val_accuracy: 0.9659\n",
            "Epoch 24/50\n",
            "32/32 [==============================] - 3s 97ms/step - loss: 9.1228e-05 - accuracy: 1.0000 - val_loss: 0.2527 - val_accuracy: 0.9602\n",
            "Epoch 25/50\n",
            "32/32 [==============================] - 3s 97ms/step - loss: 7.1471e-05 - accuracy: 1.0000 - val_loss: 0.2702 - val_accuracy: 0.9545\n",
            "Epoch 26/50\n",
            "32/32 [==============================] - 3s 96ms/step - loss: 4.8834e-05 - accuracy: 1.0000 - val_loss: 0.2668 - val_accuracy: 0.9545\n",
            "Epoch 27/50\n",
            "32/32 [==============================] - 3s 94ms/step - loss: 4.3838e-05 - accuracy: 1.0000 - val_loss: 0.2429 - val_accuracy: 0.9602\n",
            "Epoch 28/50\n",
            "32/32 [==============================] - 3s 95ms/step - loss: 3.1693e-05 - accuracy: 1.0000 - val_loss: 0.1261 - val_accuracy: 0.9773\n",
            "Epoch 29/50\n",
            "32/32 [==============================] - 3s 96ms/step - loss: 2.4298e-05 - accuracy: 1.0000 - val_loss: 0.3222 - val_accuracy: 0.9545\n",
            "Epoch 30/50\n",
            "32/32 [==============================] - 3s 96ms/step - loss: 2.1383e-05 - accuracy: 1.0000 - val_loss: 0.3078 - val_accuracy: 0.9489\n",
            "Epoch 31/50\n",
            "32/32 [==============================] - 3s 96ms/step - loss: 1.7515e-05 - accuracy: 1.0000 - val_loss: 0.2806 - val_accuracy: 0.9545\n",
            "Epoch 32/50\n",
            "32/32 [==============================] - 3s 96ms/step - loss: 1.4599e-05 - accuracy: 1.0000 - val_loss: 0.3441 - val_accuracy: 0.9489\n",
            "Epoch 33/50\n",
            "32/32 [==============================] - 3s 96ms/step - loss: 1.3094e-05 - accuracy: 1.0000 - val_loss: 0.3719 - val_accuracy: 0.9375\n",
            "Epoch 34/50\n",
            "32/32 [==============================] - 3s 95ms/step - loss: 1.1052e-05 - accuracy: 1.0000 - val_loss: 0.1563 - val_accuracy: 0.9659\n",
            "Epoch 35/50\n",
            "32/32 [==============================] - 3s 96ms/step - loss: 9.9200e-06 - accuracy: 1.0000 - val_loss: 0.2284 - val_accuracy: 0.9659\n",
            "Epoch 36/50\n",
            "32/32 [==============================] - 3s 95ms/step - loss: 9.3401e-06 - accuracy: 1.0000 - val_loss: 0.2368 - val_accuracy: 0.9432\n",
            "Epoch 37/50\n",
            "32/32 [==============================] - 3s 96ms/step - loss: 9.7178e-06 - accuracy: 1.0000 - val_loss: 0.3152 - val_accuracy: 0.9545\n",
            "Epoch 38/50\n",
            "32/32 [==============================] - 3s 94ms/step - loss: 8.2149e-06 - accuracy: 1.0000 - val_loss: 0.2973 - val_accuracy: 0.9602\n",
            "Epoch 39/50\n",
            "32/32 [==============================] - 3s 95ms/step - loss: 7.1046e-06 - accuracy: 1.0000 - val_loss: 0.3693 - val_accuracy: 0.9432\n",
            "Epoch 40/50\n",
            "32/32 [==============================] - 3s 96ms/step - loss: 6.4854e-06 - accuracy: 1.0000 - val_loss: 0.3196 - val_accuracy: 0.9545\n",
            "Epoch 41/50\n",
            "32/32 [==============================] - 3s 95ms/step - loss: 6.2721e-06 - accuracy: 1.0000 - val_loss: 0.3542 - val_accuracy: 0.9545\n",
            "Epoch 42/50\n",
            "32/32 [==============================] - 3s 95ms/step - loss: 6.5033e-06 - accuracy: 1.0000 - val_loss: 0.3225 - val_accuracy: 0.9545\n",
            "Epoch 43/50\n",
            "32/32 [==============================] - 3s 95ms/step - loss: 5.7321e-06 - accuracy: 1.0000 - val_loss: 0.2870 - val_accuracy: 0.9489\n",
            "Epoch 44/50\n",
            "32/32 [==============================] - 3s 96ms/step - loss: 5.3510e-06 - accuracy: 1.0000 - val_loss: 0.3669 - val_accuracy: 0.9489\n",
            "Epoch 45/50\n",
            "32/32 [==============================] - 3s 96ms/step - loss: 4.9805e-06 - accuracy: 1.0000 - val_loss: 0.3114 - val_accuracy: 0.9489\n",
            "Epoch 46/50\n",
            "32/32 [==============================] - 3s 95ms/step - loss: 4.3191e-06 - accuracy: 1.0000 - val_loss: 0.2879 - val_accuracy: 0.9489\n",
            "Epoch 47/50\n",
            "32/32 [==============================] - 3s 96ms/step - loss: 4.7442e-06 - accuracy: 1.0000 - val_loss: 0.3742 - val_accuracy: 0.9489\n",
            "Epoch 48/50\n",
            "32/32 [==============================] - 3s 95ms/step - loss: 4.5867e-06 - accuracy: 1.0000 - val_loss: 0.3217 - val_accuracy: 0.9375\n",
            "Epoch 49/50\n",
            "32/32 [==============================] - 3s 94ms/step - loss: 3.9246e-06 - accuracy: 1.0000 - val_loss: 0.4110 - val_accuracy: 0.9318\n",
            "Epoch 50/50\n",
            "32/32 [==============================] - 3s 97ms/step - loss: 3.9056e-06 - accuracy: 1.0000 - val_loss: 0.2767 - val_accuracy: 0.9545\n"
          ],
          "name": "stdout"
        }
      ]
    },
    {
      "cell_type": "markdown",
      "metadata": {
        "id": "YIOptgQoehVy",
        "colab_type": "text"
      },
      "source": [
        "# Custom CNN Model with Image Manipulations\n",
        "\n",
        "To simulate an increase in a sample of image, you can apply image manipulation techniques: cropping, rotation, stretching, etc. Luckily Keras has some handy functions for us to apply these techniques to our mountain and forest example. Simply, you should be able to modify our image generator for the problem. Check out these resources to help you get started: \n",
        "\n",
        "1. [Keras `ImageGenerator` Class](https://keras.io/preprocessing/image/#imagedatagenerator-class)\n",
        "2. [Building a powerful image classifier with very little data](https://blog.keras.io/building-powerful-image-classification-models-using-very-little-data.html)\n",
        " "
      ]
    },
    {
      "cell_type": "code",
      "metadata": {
        "id": "YijRiu8EehVz",
        "colab_type": "code",
        "outputId": "c67f2637-da10-4f75-f68a-eaec0551d651",
        "colab": {
          "base_uri": "https://localhost:8080/",
          "height": 35
        }
      },
      "source": [
        "from keras.preprocessing.image import ImageDataGenerator\n",
        "\n",
        "# Creating train_datagen\n",
        "train_datagen = ImageDataGenerator(\n",
        "        rotation_range=0,\n",
        "        width_shift_range=0.25,\n",
        "        height_shift_range=0.25,\n",
        "        rescale=1./255,\n",
        "        shear_range=0.2,\n",
        "        zoom_range=0.15,\n",
        "        horizontal_flip=True,\n",
        "        fill_mode='nearest')\n",
        "\n",
        "# Creating val_datagen\n",
        "val_datagen = ImageDataGenerator(rescale=1./255,\n",
        "                                 rotation_range=1,\n",
        "                                 width_shift_range=0.15,\n",
        "                                 height_shift_range=0.2,\n",
        "                                 zoom_range=.1,\n",
        "                                 horizontal_flip=True,\n",
        "                                 vertical_flip=True)"
      ],
      "execution_count": 17,
      "outputs": [
        {
          "output_type": "stream",
          "text": [
            "Using TensorFlow backend.\n"
          ],
          "name": "stderr"
        }
      ]
    },
    {
      "cell_type": "code",
      "metadata": {
        "id": "2LfbCOtsqnhk",
        "colab_type": "code",
        "outputId": "318f1140-92cd-4296-ed2c-e4d26e8e5262",
        "colab": {
          "base_uri": "https://localhost:8080/",
          "height": 35
        }
      },
      "source": [
        "train_generator = train_datagen.flow_from_directory(batch_size=batch_size,\n",
        "                                                           directory=train_dir,\n",
        "                                                           shuffle=True,\n",
        "                                                           target_size=(IMG_HEIGHT, IMG_WIDTH),\n",
        "                                                           class_mode='binary')"
      ],
      "execution_count": 18,
      "outputs": [
        {
          "output_type": "stream",
          "text": [
            "Found 533 images belonging to 2 classes.\n"
          ],
          "name": "stdout"
        }
      ]
    },
    {
      "cell_type": "code",
      "metadata": {
        "id": "OMCxia8cqrJp",
        "colab_type": "code",
        "outputId": "e4095cbf-74e9-4407-a3ab-4a8b27d5265b",
        "colab": {
          "base_uri": "https://localhost:8080/",
          "height": 35
        }
      },
      "source": [
        "val_generator = val_datagen.flow_from_directory(batch_size=batch_size,\n",
        "                                                           directory=validation_dir,\n",
        "                                                           shuffle=True,\n",
        "                                                           target_size=(IMG_HEIGHT, IMG_WIDTH),\n",
        "                                                           class_mode='binary')"
      ],
      "execution_count": 19,
      "outputs": [
        {
          "output_type": "stream",
          "text": [
            "Found 195 images belonging to 2 classes.\n"
          ],
          "name": "stdout"
        }
      ]
    },
    {
      "cell_type": "code",
      "metadata": {
        "id": "sP_V9Y-Gq-J3",
        "colab_type": "code",
        "outputId": "6abab48a-7996-4544-d98a-4ce70fec7536",
        "colab": {
          "base_uri": "https://localhost:8080/",
          "height": 356
        }
      },
      "source": [
        "gen_model = model.fit(\n",
        "    train_generator,\n",
        "    steps_per_epoch=total_train // batch_size,\n",
        "    epochs=epochs,\n",
        "    validation_data=val_generator,\n",
        "    validation_steps=total_val // batch_size\n",
        ")"
      ],
      "execution_count": 0,
      "outputs": [
        {
          "output_type": "stream",
          "text": [
            "Epoch 1/50\n",
            "32/32 [==============================] - 10s 324ms/step - loss: 1.0694 - accuracy: 0.6926 - val_loss: 0.7607 - val_accuracy: 0.5341\n",
            "Epoch 2/50\n",
            "32/32 [==============================] - 10s 328ms/step - loss: 0.4974 - accuracy: 0.7864 - val_loss: 1.2033 - val_accuracy: 0.5852\n",
            "Epoch 3/50\n",
            "32/32 [==============================] - 10s 324ms/step - loss: 0.3970 - accuracy: 0.8463 - val_loss: 0.9695 - val_accuracy: 0.6080\n",
            "Epoch 4/50\n",
            "32/32 [==============================] - 10s 323ms/step - loss: 0.3543 - accuracy: 0.8822 - val_loss: 0.7363 - val_accuracy: 0.7273\n",
            "Epoch 5/50\n",
            "32/32 [==============================] - 10s 325ms/step - loss: 0.3059 - accuracy: 0.8802 - val_loss: 0.6224 - val_accuracy: 0.7557\n",
            "Epoch 6/50\n",
            "32/32 [==============================] - 11s 329ms/step - loss: 0.3247 - accuracy: 0.8683 - val_loss: 0.6170 - val_accuracy: 0.7102\n",
            "Epoch 7/50\n",
            "32/32 [==============================] - 10s 323ms/step - loss: 0.3013 - accuracy: 0.8743 - val_loss: 0.5282 - val_accuracy: 0.7784\n",
            "Epoch 8/50\n",
            "32/32 [==============================] - 10s 321ms/step - loss: 0.2281 - accuracy: 0.9082 - val_loss: 0.7707 - val_accuracy: 0.7784\n",
            "Epoch 9/50\n",
            "26/32 [=======================>......] - ETA: 1s - loss: 0.2409 - accuracy: 0.9185"
          ],
          "name": "stdout"
        }
      ]
    },
    {
      "cell_type": "markdown",
      "metadata": {
        "colab_type": "text",
        "id": "uT3UV3gap9H6"
      },
      "source": [
        "# Resources and Stretch Goals\n",
        "\n",
        "Stretch goals\n",
        "- Enhance your code to use classes/functions and accept terms to search and classes to look for in recognizing the downloaded images (e.g. download images of parties, recognize all that contain balloons)\n",
        "- Check out [other available pretrained networks](https://tfhub.dev), try some and compare\n",
        "- Image recognition/classification is somewhat solved, but *relationships* between entities and describing an image is not - check out some of the extended resources (e.g. [Visual Genome](https://visualgenome.org/)) on the topic\n",
        "- Transfer learning - using images you source yourself, [retrain a classifier](https://www.tensorflow.org/hub/tutorials/image_retraining) with a new category\n",
        "- (Not CNN related) Use [piexif](https://pypi.org/project/piexif/) to check out the metadata of images passed in to your system - see if they're from a national park! (Note - many images lack GPS metadata, so this won't work in most cases, but still cool)\n",
        "\n",
        "Resources\n",
        "- [Deep Residual Learning for Image Recognition](https://arxiv.org/abs/1512.03385) - influential paper (introduced ResNet)\n",
        "- [YOLO: Real-Time Object Detection](https://pjreddie.com/darknet/yolo/) - an influential convolution based object detection system, focused on inference speed (for applications to e.g. self driving vehicles)\n",
        "- [R-CNN, Fast R-CNN, Faster R-CNN, YOLO](https://towardsdatascience.com/r-cnn-fast-r-cnn-faster-r-cnn-yolo-object-detection-algorithms-36d53571365e) - comparison of object detection systems\n",
        "- [Common Objects in Context](http://cocodataset.org/) - a large-scale object detection, segmentation, and captioning dataset\n",
        "- [Visual Genome](https://visualgenome.org/) - a dataset, a knowledge base, an ongoing effort to connect structured image concepts to language"
      ]
    }
  ]
}